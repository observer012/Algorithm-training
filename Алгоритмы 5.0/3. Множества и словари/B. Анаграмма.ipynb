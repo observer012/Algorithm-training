{
 "cells": [
  {
   "cell_type": "markdown",
   "id": "95cff55c-1d80-4a89-982b-87fbed7a7143",
   "metadata": {},
   "source": [
    "# B. Анаграмма?"
   ]
  },
  {
   "cell_type": "markdown",
   "id": "ae406be6-3cdc-4b3c-ace9-a97e30a7026a",
   "metadata": {},
   "source": [
    "## Отметка о выполнении"
   ]
  },
  {
   "attachments": {
    "5697f01e-d555-4f30-8258-e454b6897a39.png": {
     "image/png": "[encoded data removed]"
    }
   },
   "cell_type": "markdown",
   "id": "2fe20119-4286-4b4e-9997-65f5056370ab",
   "metadata": {},
   "source": [
    "![image.png](attachment:5697f01e-d555-4f30-8258-e454b6897a39.png)"
   ]
  },
  {
   "cell_type": "markdown",
   "id": "6a116cb8-bc31-439c-b658-6e07277ed33c",
   "metadata": {},
   "source": [
    "## Решение"
   ]
  },
  {
   "cell_type": "code",
   "execution_count": null,
   "id": "31124692-2e3f-4826-bfbc-7a0f689d8798",
   "metadata": {},
   "outputs": [],
   "source": [
    "a = list(input());\n",
    "b = list(input());\n",
    "ans = 'YES'\n",
    "dict_ab = {}\n",
    "\n",
    "for i in range(len(a)):\n",
    "    if a[i] not in dict_ab.keys():\n",
    "        dict_ab[a[i]] = [1, 0]\n",
    "    elif a[i] in dict_ab.keys():\n",
    "        dict_ab[a[i]][0] += 1\n",
    "\n",
    "    if b[i] not in dict_ab.keys():\n",
    "        dict_ab[b[i]] = [0, 1]\n",
    "    elif a[i] in dict_ab.keys():\n",
    "        dict_ab[b[i]][1] += 1\n",
    "\n",
    "for val in dict_ab.values():\n",
    "    if val[0] != val[1]:\n",
    "        ans = 'NO'\n",
    "        break\n",
    "\n",
    "print(ans)"
   ]
  },
  {
   "cell_type": "code",
   "execution_count": null,
   "id": "a7eb1c3c-2370-46c9-8147-4a65cd4afdae",
   "metadata": {},
   "outputs": [],
   "source": []
  }
 ],
 "metadata": {
  "kernelspec": {
   "display_name": "Python 3 (ipykernel)",
   "language": "python",
   "name": "python3"
  },
  "language_info": {
   "codemirror_mode": {
    "name": "ipython",
    "version": 3
   },
   "file_extension": ".py",
   "mimetype": "text/x-python",
   "name": "python",
   "nbconvert_exporter": "python",
   "pygments_lexer": "ipython3",
   "version": "3.12.1"
  }
 },
 "nbformat": 4,
 "nbformat_minor": 5
}
