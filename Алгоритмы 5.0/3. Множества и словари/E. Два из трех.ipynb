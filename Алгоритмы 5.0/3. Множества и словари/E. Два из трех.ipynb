{
 "cells": [
  {
   "cell_type": "markdown",
   "id": "11eb7843-1e4d-4539-a3af-aeaa0366e557",
   "metadata": {},
   "source": [
    "# E. Два из трех"
   ]
  },
  {
   "cell_type": "markdown",
   "id": "a915e720-c522-4ed4-aaf9-d4456da6335c",
   "metadata": {},
   "source": [
    "## Отметка о выполнении"
   ]
  },
  {
   "attachments": {
    "bacfe4b8-d3d5-4947-9088-48a5ac82160a.png": {
     "image/png": "[encoded data removed]"
    }
   },
   "cell_type": "markdown",
   "id": "36755423-da78-4ee7-81d3-8884e9ef15f7",
   "metadata": {},
   "source": [
    "![image.png](attachment:bacfe4b8-d3d5-4947-9088-48a5ac82160a.png)"
   ]
  },
  {
   "cell_type": "markdown",
   "id": "70f480e6-ba20-46da-8b5c-42e42681bf2a",
   "metadata": {},
   "source": [
    "## Решение"
   ]
  },
  {
   "cell_type": "code",
   "execution_count": null,
   "id": "a363f35c-4e21-40a0-b45c-095b28188ac4",
   "metadata": {},
   "outputs": [],
   "source": [
    "def input_data():\n",
    "    input()\n",
    "    new_list = set(map(int, input().split()))\n",
    "    return new_list\n",
    "\n",
    "A = input_data()\n",
    "B = input_data()\n",
    "C = input_data()\n",
    "ans1 = A & B \n",
    "ans2 = A & C\n",
    "ans3 = B & C\n",
    "ans = set(list(ans1) + list(ans2) + list(ans3))\n",
    "if len(ans) == 0:\n",
    "    print('')\n",
    "else:\n",
    "    [print(el, end=' ') for el in (sorted(ans))];"
   ]
  },
  {
   "cell_type": "code",
   "execution_count": null,
   "id": "3ed64b6d-2ab0-4b29-b538-b32c17904e27",
   "metadata": {},
   "outputs": [],
   "source": []
  }
 ],
 "metadata": {
  "kernelspec": {
   "display_name": "Python 3 (ipykernel)",
   "language": "python",
   "name": "python3"
  },
  "language_info": {
   "codemirror_mode": {
    "name": "ipython",
    "version": 3
   },
   "file_extension": ".py",
   "mimetype": "text/x-python",
   "name": "python",
   "nbconvert_exporter": "python",
   "pygments_lexer": "ipython3",
   "version": "3.12.1"
  }
 },
 "nbformat": 4,
 "nbformat_minor": 5
}
