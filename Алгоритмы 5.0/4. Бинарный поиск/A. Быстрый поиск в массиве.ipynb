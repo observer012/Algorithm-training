{
 "cells": [
  {
   "cell_type": "code",
   "execution_count": 1,
   "id": "5ee3b93a-ed77-4eeb-b49e-4fd6ec8dcdcf",
   "metadata": {},
   "outputs": [
    {
     "name": "stdin",
     "output_type": "stream",
     "text": [
      " 5\n",
      " 10 1 10 3 4\n",
      " 4\n",
      " 1 10\n",
      " 2 9\n",
      " 3 4\n",
      " 2 2\n"
     ]
    }
   ],
   "source": [
    "n = int(input()) \n",
    "numbers = list(map(int, input().split()))\n",
    "requests = int(input())\n",
    "# далее код программы\n",
    "for re in range(requests):\n",
    "    num_1, num_2 = map(int, input().split())\n",
    "    "
   ]
  },
  {
   "cell_type": "code",
   "execution_count": 10,
   "id": "7f2e2c4f-0d2c-4121-a72a-5258d2ea495a",
   "metadata": {},
   "outputs": [
    {
     "name": "stdout",
     "output_type": "stream",
     "text": [
      "5 "
     ]
    }
   ],
   "source": [
    "string = '10 1 10 3 4'\n",
    "string = list(map(int, string.split()))\n",
    "req = '1 10'\n",
    "req = list(map(int, req.split()))\n",
    "\n",
    "def entry_counter(string, req):\n",
    "    count = 0\n",
    "    for el in string:\n",
    "        if req[0] <= el <= req[1]:\n",
    "            count += 1\n",
    "    print(count, end = ' ')\n",
    "\n",
    "entry_counter(string, req)"
   ]
  },
  {
   "cell_type": "code",
   "execution_count": 12,
   "id": "13041e73-0369-414f-9fc1-f4c389dd443f",
   "metadata": {},
   "outputs": [
    {
     "name": "stdin",
     "output_type": "stream",
     "text": [
      " 5\n",
      " 10 1 10 3 4\n",
      " 4\n",
      " 1 10\n",
      " 2 9\n",
      " 3 4\n",
      " 2 2\n"
     ]
    },
    {
     "name": "stdout",
     "output_type": "stream",
     "text": [
      "5 2 2 0 \n"
     ]
    }
   ],
   "source": [
    "def entry_counter(string, num_1, num_2):\n",
    "    count = 0\n",
    "    for el in string:\n",
    "        if num_1 <= el <= num_2:\n",
    "            count += 1\n",
    "    return str(count)\n",
    "\n",
    "n = int(input()) \n",
    "numbers = list(map(int, input().split()))\n",
    "requests = int(input())\n",
    "# далее код программы\n",
    "\n",
    "f_count = ''\n",
    "for re in range(requests):\n",
    "    num_1, num_2 = map(int, input().split())\n",
    "    f_count += entry_counter(numbers, num_1, num_2) + ' '\n",
    "\n",
    "print(f_count)"
   ]
  },
  {
   "cell_type": "code",
   "execution_count": null,
   "id": "123c2427-aab8-4800-ba1b-18b533bb249b",
   "metadata": {},
   "outputs": [],
   "source": []
  }
 ],
 "metadata": {
  "kernelspec": {
   "display_name": "Python 3 (ipykernel)",
   "language": "python",
   "name": "python3"
  },
  "language_info": {
   "codemirror_mode": {
    "name": "ipython",
    "version": 3
   },
   "file_extension": ".py",
   "mimetype": "text/x-python",
   "name": "python",
   "nbconvert_exporter": "python",
   "pygments_lexer": "ipython3",
   "version": "3.12.1"
  }
 },
 "nbformat": 4,
 "nbformat_minor": 5
}
