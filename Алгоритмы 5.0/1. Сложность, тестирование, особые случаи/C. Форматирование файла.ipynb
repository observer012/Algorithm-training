{
 "cells": [
  {
   "cell_type": "markdown",
   "id": "7c85d212-1615-4de7-b3b3-8da4eebfb963",
   "metadata": {},
   "source": [
    "# C. Форматирование файла"
   ]
  },
  {
   "cell_type": "markdown",
   "id": "be5e8aee-8a50-4ca9-bd4e-61e4edc5395c",
   "metadata": {},
   "source": [
    "## Отметка о выполнении"
   ]
  },
  {
   "attachments": {
    "8a7e40d3-8b42-4261-bf5e-4d497a344165.png": {
     "image/png": "[encoded data removed]"
    }
   },
   "cell_type": "markdown",
   "id": "aea3071a-ae5b-4e0d-8c1b-7d36e611b3be",
   "metadata": {},
   "source": [
    "![image.png](attachment:8a7e40d3-8b42-4261-bf5e-4d497a344165.png)"
   ]
  },
  {
   "cell_type": "markdown",
   "id": "25fd7fb2-347a-46df-836b-68a1f44fe901",
   "metadata": {},
   "source": [
    "## Решение"
   ]
  },
  {
   "cell_type": "code",
   "execution_count": null,
   "id": "69582cbd-c8d2-4c5e-a6b6-89b6f9f90ba5",
   "metadata": {},
   "outputs": [],
   "source": [
    "strings = int(input())\n",
    "count = 0\n",
    "for i in range(strings):\n",
    "    my_num = int(input())\n",
    "    before_num = (my_num // 4) + (my_num % 4)\n",
    "    after_num = abs(-my_num // 4) + (-my_num % 4)\n",
    "    if before_num > after_num:\n",
    "        count += after_num\n",
    "    else:\n",
    "        count += before_num\n",
    "        \n",
    "print(count)"
   ]
  }
 ],
 "metadata": {
  "kernelspec": {
   "display_name": "Python 3 (ipykernel)",
   "language": "python",
   "name": "python3"
  },
  "language_info": {
   "codemirror_mode": {
    "name": "ipython",
    "version": 3
   },
   "file_extension": ".py",
   "mimetype": "text/x-python",
   "name": "python",
   "nbconvert_exporter": "python",
   "pygments_lexer": "ipython3",
   "version": "3.12.1"
  }
 },
 "nbformat": 4,
 "nbformat_minor": 5
}
