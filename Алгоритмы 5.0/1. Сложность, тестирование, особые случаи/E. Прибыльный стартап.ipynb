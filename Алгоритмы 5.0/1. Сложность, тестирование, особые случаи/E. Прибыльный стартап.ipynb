{
 "cells": [
  {
   "cell_type": "markdown",
   "id": "5f69e54f-1984-4f92-92ae-5a0c9936e29b",
   "metadata": {},
   "source": [
    "# E. Прибыльный стартап"
   ]
  },
  {
   "cell_type": "markdown",
   "id": "c04fd288-2a16-4a15-b16e-575c54e2b488",
   "metadata": {},
   "source": [
    "## Отметка о выполнении"
   ]
  },
  {
   "attachments": {
    "5327af18-5e8f-45c1-be8b-fa85f40c2c10.png": {
     "image/png": "[encoded data removed]"
    }
   },
   "cell_type": "markdown",
   "id": "f934f1ef-1eff-4985-acd5-adbdc2ae3c72",
   "metadata": {},
   "source": [
    "![image.png](attachment:5327af18-5e8f-45c1-be8b-fa85f40c2c10.png)"
   ]
  },
  {
   "cell_type": "markdown",
   "id": "39525140-f7f7-4dc1-b1ef-8dd8bc7ebe07",
   "metadata": {},
   "source": [
    "## Решение"
   ]
  },
  {
   "cell_type": "code",
   "execution_count": null,
   "id": "aa7e4bf0-e12a-48f0-8906-4d5368ee9030",
   "metadata": {},
   "outputs": [],
   "source": [
    "n,k,d = map(int, input().split())\n",
    "\n",
    "if (1 <= n and\n",
    "    k <= 1 * 10 ** 9 and\n",
    "    1 <= d <= 1 * 10 ** 5):\n",
    "    save_n = n\n",
    "    string = ''\n",
    "    remained = 0\n",
    "    for i in range(d):\n",
    "        for j in range(10):\n",
    "            ans = n * 10 + j\n",
    "            if ans % k == 0:\n",
    "                n = ans\n",
    "                break   \n",
    "        if n == save_n:\n",
    "            n = -1 \n",
    "            break\n",
    "    \n",
    "        if len(str(n)) >= len(str(k)) + 1:\n",
    "            string += str(n)[-1]\n",
    "            if string.count(str(n)[-1]) == 5:\n",
    "                if len(string) == 5:\n",
    "                    remained = d - 1 - i \n",
    "                    n = str(n) + str(n)[-1] * remained\n",
    "                    break\n",
    "                else:\n",
    "                    string = ''\n",
    "                     \n",
    "        if remained > 0:\n",
    "            break\n",
    "        \n",
    "    print(n)\n",
    "\n",
    "else:\n",
    "    print(-1)"
   ]
  },
  {
   "cell_type": "code",
   "execution_count": null,
   "id": "a0ab0a17-b009-4d1a-9ecc-f5f7747511f4",
   "metadata": {},
   "outputs": [],
   "source": []
  }
 ],
 "metadata": {
  "kernelspec": {
   "display_name": "Python 3 (ipykernel)",
   "language": "python",
   "name": "python3"
  },
  "language_info": {
   "codemirror_mode": {
    "name": "ipython",
    "version": 3
   },
   "file_extension": ".py",
   "mimetype": "text/x-python",
   "name": "python",
   "nbconvert_exporter": "python",
   "pygments_lexer": "ipython3",
   "version": "3.12.1"
  }
 },
 "nbformat": 4,
 "nbformat_minor": 5
}
