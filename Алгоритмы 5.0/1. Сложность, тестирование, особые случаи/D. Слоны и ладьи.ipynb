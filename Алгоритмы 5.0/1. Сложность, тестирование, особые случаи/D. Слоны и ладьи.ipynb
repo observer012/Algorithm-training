{
 "cells": [
  {
   "cell_type": "markdown",
   "id": "a8d1c47c-ed8c-4757-9a00-c04003877198",
   "metadata": {},
   "source": [
    "# D. Слоны и ладьи"
   ]
  },
  {
   "cell_type": "markdown",
   "id": "ccafc36c-ab7d-4222-bea8-e1b6e368c917",
   "metadata": {},
   "source": [
    "## Отметка о выполнении"
   ]
  },
  {
   "attachments": {
    "6efd684d-1b46-4a66-893d-f55ac55888e8.png": {
     "image/png": "[encoded data removed]"
    }
   },
   "cell_type": "markdown",
   "id": "f0a630a6-392b-433d-ab71-81713837f0b7",
   "metadata": {},
   "source": [
    "![image.png](attachment:6efd684d-1b46-4a66-893d-f55ac55888e8.png)"
   ]
  },
  {
   "cell_type": "markdown",
   "id": "f79bfc34-6400-4748-ad9e-bde88c6c6f4d",
   "metadata": {},
   "source": [
    "## Решение"
   ]
  },
  {
   "cell_type": "code",
   "execution_count": null,
   "id": "e43a884f-7449-4260-8104-fdc0f3e013ee",
   "metadata": {},
   "outputs": [],
   "source": [
    "strings = []\n",
    "for i in range(8):\n",
    "    strings.append(input().strip())\n",
    "\n",
    "coords_R = []\n",
    "coords_B = []\n",
    "for i in range(len(strings)):\n",
    "    my_str = strings[i]\n",
    "    coords_R += [(i+1,j+1) for j in range(len(my_str)) if my_str[j] == 'R']\n",
    "    coords_B += [(i+1,j+1) for j in range(len(my_str)) if my_str[j] == 'B']\n",
    "\n",
    "count_coords = len(coords_R) + len(coords_B)\n",
    "    \n",
    "R = []\n",
    "for el in coords_R:\n",
    "    for x, y in {(-1,0), (1,0), (0,-1), (0, 1)}:\n",
    "        a, b = el[0], el[1]\n",
    "        a += x\n",
    "        b += y\n",
    "        while (1 <= a <= 8) and (1 <= b <= 8):\n",
    "            if (a, b) in coords_R:\n",
    "                break\n",
    "            elif (a, b) in coords_B:\n",
    "                break\n",
    "                \n",
    "            R.append((a, b))\n",
    "            a += x\n",
    "            b += y\n",
    "\n",
    "B = []\n",
    "for el in coords_B:\n",
    "    for x, y in {(-1,1), (1,1), (1,-1), (-1, -1)}:\n",
    "        a, b = el[0], el[1]\n",
    "        a += x\n",
    "        b += y\n",
    "        while (1 <= a <= 8) and (1 <= b <= 8):\n",
    "            if (a, b) in coords_R:\n",
    "                break\n",
    "            elif (a, b) in coords_B:\n",
    "                break\n",
    "                \n",
    "            B.append((a, b))\n",
    "            a += x\n",
    "            b += y       \n",
    "\n",
    "print(64 - (len(set(B + R))+count_coords))"
   ]
  },
  {
   "cell_type": "code",
   "execution_count": null,
   "id": "5575544e-6116-4046-a7d6-059544a1facd",
   "metadata": {},
   "outputs": [],
   "source": []
  }
 ],
 "metadata": {
  "kernelspec": {
   "display_name": "Python 3 (ipykernel)",
   "language": "python",
   "name": "python3"
  },
  "language_info": {
   "codemirror_mode": {
    "name": "ipython",
    "version": 3
   },
   "file_extension": ".py",
   "mimetype": "text/x-python",
   "name": "python",
   "nbconvert_exporter": "python",
   "pygments_lexer": "ipython3",
   "version": "3.12.1"
  }
 },
 "nbformat": 4,
 "nbformat_minor": 5
}
