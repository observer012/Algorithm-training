{
 "cells": [
  {
   "cell_type": "markdown",
   "id": "64154e17-8055-4f6f-891d-28e6e7e58606",
   "metadata": {},
   "source": [
    "# B. Футбольный комментатор"
   ]
  },
  {
   "cell_type": "markdown",
   "id": "a14f9d76-b0f4-4054-9350-8e891607633e",
   "metadata": {},
   "source": [
    "## Отметка о выполнении"
   ]
  },
  {
   "attachments": {
    "08b238b2-7a5b-4148-9cb3-c6f60fa4727d.png": {
     "image/png": "[encoded data removed]"
    }
   },
   "cell_type": "markdown",
   "id": "706efc80-4d71-4c91-ba1b-0953a0ece15e",
   "metadata": {},
   "source": [
    "![image.png](attachment:08b238b2-7a5b-4148-9cb3-c6f60fa4727d.png)"
   ]
  },
  {
   "cell_type": "markdown",
   "id": "76feecc8-77d2-47df-a487-50e000c4a758",
   "metadata": {},
   "source": [
    "## Решение"
   ]
  },
  {
   "cell_type": "code",
   "execution_count": null,
   "id": "6ec8fdd8-8924-46cc-8d17-5e39e62b0ed0",
   "metadata": {},
   "outputs": [],
   "source": [
    "match_1C1, match_1C2 = map(int, input().split(':'))\n",
    "match_2C1, match_2C2 = map(int, input().split(':'))\n",
    "l = int(input())\n",
    "\n",
    "first_com = match_1C1 + match_2C1\n",
    "second_com = match_1C2 + match_2C2\n",
    "\n",
    "if first_com == second_com:\n",
    "    if l == 2:\n",
    "        if match_1C1 > match_2C2:\n",
    "            heads_are_needed = 0\n",
    "        elif match_1C1 <= match_2C2:\n",
    "            heads_are_needed = 1\n",
    "            \n",
    "    elif l == 1:\n",
    "        if match_2C1 <= match_1C2:\n",
    "            heads_are_needed = 1\n",
    "        elif match_2C1 > match_1C2:\n",
    "            heads_are_needed = 0\n",
    " \n",
    "elif first_com > second_com:\n",
    "    heads_are_needed = 0\n",
    "    \n",
    "elif first_com < second_com:       \n",
    "    heads_are_needed = second_com - first_com\n",
    "    if l == 2:\n",
    "        if match_1C1 > match_2C2:\n",
    "            heads_are_needed += 0\n",
    "        elif match_1C1 <= match_2C2:\n",
    "            heads_are_needed += 1\n",
    "            \n",
    "    elif l == 1:\n",
    "        match_2C1 += heads_are_needed\n",
    "        if match_2C1 <= match_1C2:\n",
    "            heads_are_needed += 1\n",
    "        elif match_2C1 > match_1C2:\n",
    "            heads_are_needed += 0\n",
    "\n",
    "else: \n",
    "    heads_are_needed = 0\n",
    "\n",
    "print(heads_are_needed)"
   ]
  }
 ],
 "metadata": {
  "kernelspec": {
   "display_name": "Python 3 (ipykernel)",
   "language": "python",
   "name": "python3"
  },
  "language_info": {
   "codemirror_mode": {
    "name": "ipython",
    "version": 3
   },
   "file_extension": ".py",
   "mimetype": "text/x-python",
   "name": "python",
   "nbconvert_exporter": "python",
   "pygments_lexer": "ipython3",
   "version": "3.12.1"
  }
 },
 "nbformat": 4,
 "nbformat_minor": 5
}
