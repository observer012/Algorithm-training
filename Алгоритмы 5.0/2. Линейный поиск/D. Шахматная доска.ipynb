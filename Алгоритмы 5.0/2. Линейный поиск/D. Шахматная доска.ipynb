{
 "cells": [
  {
   "cell_type": "markdown",
   "id": "0057515e-a38c-4215-93bf-ce74b6184791",
   "metadata": {},
   "source": [
    "# D. Шахматная доска"
   ]
  },
  {
   "cell_type": "markdown",
   "id": "c09e9d05-889b-4744-b1b0-2590b2b26307",
   "metadata": {},
   "source": [
    "## Отметка о выполнении"
   ]
  },
  {
   "attachments": {
    "636c286d-091f-41a8-b869-e6501179527e.png": {
     "image/png": "[encoded data removed]"
    }
   },
   "cell_type": "markdown",
   "id": "55473887-2d81-4865-9af1-512fe8f7a327",
   "metadata": {},
   "source": [
    "![image.png](attachment:636c286d-091f-41a8-b869-e6501179527e.png)"
   ]
  },
  {
   "cell_type": "markdown",
   "id": "f1829af3-d203-4974-8d38-798060956752",
   "metadata": {},
   "source": [
    "## Решение"
   ]
  },
  {
   "cell_type": "code",
   "execution_count": 4,
   "id": "dea9f010-978d-4614-956e-0911336ff442",
   "metadata": {},
   "outputs": [
    {
     "name": "stdin",
     "output_type": "stream",
     "text": [
      " 7\n",
      " 1 1\n",
      " 2 1\n",
      " 1 2\n",
      " 1 3\n",
      " 2 3\n",
      " 2 2\n",
      " 3 2\n"
     ]
    },
    {
     "name": "stdout",
     "output_type": "stream",
     "text": [
      "12\n"
     ]
    }
   ],
   "source": [
    "n = int(input())\n",
    "Coords = set()\n",
    "for i in range(n):\n",
    "    x, y = map(int, input().split())\n",
    "    Coords.add((x, y))\n",
    "\n",
    "def new_coords(x, y):\n",
    "    count = 0\n",
    "    walls = ((x - 1, y), (x + 1, y),\n",
    "             (x, y - 1), (x, y + 1))\n",
    "\n",
    "    for el in walls:\n",
    "        if el not in Coords:\n",
    "            count += 1\n",
    "    return count\n",
    "\n",
    "count = 0\n",
    "for x, y in Coords:\n",
    "    count += new_coords(x, y)\n",
    "\n",
    "print(count)"
   ]
  },
  {
   "cell_type": "code",
   "execution_count": null,
   "id": "71067bb6-9f5c-4d73-ba26-dcf2603fc41c",
   "metadata": {},
   "outputs": [],
   "source": []
  }
 ],
 "metadata": {
  "kernelspec": {
   "display_name": "Python 3 (ipykernel)",
   "language": "python",
   "name": "python3"
  },
  "language_info": {
   "codemirror_mode": {
    "name": "ipython",
    "version": 3
   },
   "file_extension": ".py",
   "mimetype": "text/x-python",
   "name": "python",
   "nbconvert_exporter": "python",
   "pygments_lexer": "ipython3",
   "version": "3.12.1"
  }
 },
 "nbformat": 4,
 "nbformat_minor": 5
}
