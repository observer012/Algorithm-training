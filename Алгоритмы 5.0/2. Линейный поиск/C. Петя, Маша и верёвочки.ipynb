{
 "cells": [
  {
   "cell_type": "markdown",
   "id": "0ce33ffb-3270-4c63-84d1-e88c26d39a7b",
   "metadata": {},
   "source": [
    "# C. Петя, Маша и верёвочки"
   ]
  },
  {
   "cell_type": "markdown",
   "id": "f05d48c1-9abc-450e-b651-9928dd0fc4a9",
   "metadata": {},
   "source": [
    "## Отметка о выполнении"
   ]
  },
  {
   "attachments": {
    "52b40e89-4a49-488d-991c-3c4e5d869d9f.png": {
     "image/png": "[encoded data removed]"
    }
   },
   "cell_type": "markdown",
   "id": "355cccf8-36b0-42c6-9012-1e3678e42fa3",
   "metadata": {},
   "source": [
    "![image.png](attachment:52b40e89-4a49-488d-991c-3c4e5d869d9f.png)"
   ]
  },
  {
   "cell_type": "markdown",
   "id": "a51a7927-f920-4b70-ad6c-6745dc6ed970",
   "metadata": {},
   "source": [
    "## Решение"
   ]
  },
  {
   "cell_type": "code",
   "execution_count": null,
   "id": "8910c3f5-4ccf-40c3-acf8-58e63dbfc5b1",
   "metadata": {},
   "outputs": [],
   "source": [
    "n = int(input())\n",
    "l = list(map(int, input().split()))\n",
    "\n",
    "def ropes(l):\n",
    "    max_l = max(l)\n",
    "    l.remove(max_l)\n",
    "    sum_l = sum(l)\n",
    "    result = max_l - sum_l\n",
    "    if result > 0:\n",
    "        ans = result\n",
    "    elif result <= 0:\n",
    "        ans = max_l + sum_l\n",
    "\n",
    "    print(ans)\n",
    "    \n",
    "ropes(l)"
   ]
  },
  {
   "cell_type": "code",
   "execution_count": null,
   "id": "0471ef6f-d728-4441-a396-6882fc304e9e",
   "metadata": {},
   "outputs": [],
   "source": []
  }
 ],
 "metadata": {
  "kernelspec": {
   "display_name": "Python 3 (ipykernel)",
   "language": "python",
   "name": "python3"
  },
  "language_info": {
   "codemirror_mode": {
    "name": "ipython",
    "version": 3
   },
   "file_extension": ".py",
   "mimetype": "text/x-python",
   "name": "python",
   "nbconvert_exporter": "python",
   "pygments_lexer": "ipython3",
   "version": "3.12.1"
  }
 },
 "nbformat": 4,
 "nbformat_minor": 5
}
