{
 "cells": [
  {
   "cell_type": "markdown",
   "id": "7714849e-01e5-4e71-af3e-d240cc26da7c",
   "metadata": {},
   "source": [
    "# Название"
   ]
  },
  {
   "cell_type": "markdown",
   "id": "30dc84dc-acaf-4876-afde-327cd3c82067",
   "metadata": {},
   "source": [
    "## Отметка о выполнении"
   ]
  },
  {
   "attachments": {},
   "cell_type": "markdown",
   "id": "fc112552-1f89-4e39-824d-8270df7ee133",
   "metadata": {},
   "source": []
  },
  {
   "cell_type": "markdown",
   "id": "be1d152a-248a-4088-aed6-0bd3b6856df0",
   "metadata": {},
   "source": [
    "## Решение"
   ]
  }
 ],
 "metadata": {
  "kernelspec": {
   "display_name": "Python 3 (ipykernel)",
   "language": "python",
   "name": "python3"
  },
  "language_info": {
   "codemirror_mode": {
    "name": "ipython",
    "version": 3
   },
   "file_extension": ".py",
   "mimetype": "text/x-python",
   "name": "python",
   "nbconvert_exporter": "python",
   "pygments_lexer": "ipython3",
   "version": "3.12.1"
  }
 },
 "nbformat": 4,
 "nbformat_minor": 5
}
