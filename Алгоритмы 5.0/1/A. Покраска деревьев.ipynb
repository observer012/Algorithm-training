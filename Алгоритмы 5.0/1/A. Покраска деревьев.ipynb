{
 "cells": [
  {
   "cell_type": "markdown",
   "id": "a330f432-ce06-438e-a7a8-56c1c046efa7",
   "metadata": {},
   "source": [
    "# A. Покраска деревьев"
   ]
  },
  {
   "cell_type": "markdown",
   "id": "388ce7fe-9813-4056-81e9-ac5f5848e3e7",
   "metadata": {},
   "source": [
    "## Отметка о выполнении"
   ]
  },
  {
   "attachments": {
    "13233ff8-5d97-4d4b-b71c-b0af3afa0489.png": {
     "image/png": "[encoded data removed]"
    }
   },
   "cell_type": "markdown",
   "id": "63a75abd-2646-4d80-961a-a8932a7c86e6",
   "metadata": {},
   "source": [
    "![image.png](attachment:13233ff8-5d97-4d4b-b71c-b0af3afa0489.png)"
   ]
  },
  {
   "cell_type": "markdown",
   "id": "186599b2-e0e8-4618-aac3-07f6801f48d9",
   "metadata": {},
   "source": [
    "## Решение"
   ]
  },
  {
   "cell_type": "code",
   "execution_count": null,
   "id": "62c14378-0c51-4dca-aa7e-ae42cbd34164",
   "metadata": {},
   "outputs": [],
   "source": [
    "P, V = map(int, input().split())\n",
    "Q, M = map(int, input().split())\n",
    "def trees(P, V, Q, M):\n",
    "    total_trees = abs(V)*2 + abs(M)*2 + 1\n",
    "    correct_count = 1\n",
    "    min_PV = P - abs(V)\n",
    "    max_PV = P + abs(V)\n",
    "    min_QM = Q - abs(M)\n",
    "    max_QM = Q + abs(M)\n",
    "    \n",
    "    # PV in QM and\n",
    "    if (min_QM <= min_PV <= max_QM and\n",
    "        min_QM <= max_PV <= max_QM):\n",
    "        # print('PV in QM and')\n",
    "        ans = abs(max_QM) + abs(min_QM) + 1\n",
    "        \n",
    "    # QM in PV and\n",
    "    elif (min_PV <= min_QM <= max_PV  and\n",
    "        min_PV <= max_QM <= max_PV):\n",
    "        # print('QM in PV and')\n",
    "        ans = abs(max_PV) + abs(min_PV) + 1\n",
    "\n",
    "    # PV in QM or\n",
    "    elif (min_QM <= min_PV <= max_QM or\n",
    "        min_QM <= max_PV <= max_QM):\n",
    "        # print('PV in QM or')\n",
    "        # test !!!!\n",
    "        if P > Q:\n",
    "            if min_PV - max_QM <= 0:\n",
    "                if P == Q:\n",
    "                    correct_count += 1\n",
    "            ans = max_PV - min_QM + correct_count\n",
    "\n",
    "        else:\n",
    "            if min_QM - max_PV <= 0:\n",
    "                if P == Q:\n",
    "                    correct_count += 1\n",
    "            ans = max_QM - min_PV + correct_count\n",
    "        \n",
    "    # QM in PV or\n",
    "    elif (min_PV <= min_QM <= max_PV  or\n",
    "        min_PV <= max_QM <= max_PV):\n",
    "        # print('QM in PV or')\n",
    "        \n",
    "        # test !!! \n",
    "        if P > Q:\n",
    "            if min_QM - max_PV <= 0:\n",
    "                if P == Q:\n",
    "                    correct_count += 1\n",
    "            ans = max_QM - min_PV + correct_count\n",
    "            \n",
    "        else:\n",
    "            if min_PV - max_QM <= 0:\n",
    "                if P == Q:\n",
    "                    correct_count += 1\n",
    "            ans = max_PV - min_QM + correct_count\n",
    "    \n",
    "    else:\n",
    "        ans = abs(V)*2 + abs(M)*2 + 2\n",
    "        \n",
    "    print(ans)\n",
    "    \n",
    "trees(P, V, Q, M)"
   ]
  }
 ],
 "metadata": {
  "kernelspec": {
   "display_name": "Python 3 (ipykernel)",
   "language": "python",
   "name": "python3"
  },
  "language_info": {
   "codemirror_mode": {
    "name": "ipython",
    "version": 3
   },
   "file_extension": ".py",
   "mimetype": "text/x-python",
   "name": "python",
   "nbconvert_exporter": "python",
   "pygments_lexer": "ipython3",
   "version": "3.12.1"
  }
 },
 "nbformat": 4,
 "nbformat_minor": 5
}
