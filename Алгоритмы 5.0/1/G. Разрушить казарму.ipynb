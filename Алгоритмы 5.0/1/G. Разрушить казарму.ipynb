{
 "cells": [
  {
   "cell_type": "markdown",
   "id": "7dcc9ca5-bf18-4143-b480-7fb5003b6b04",
   "metadata": {},
   "source": [
    "# G. Разрушить казарму"
   ]
  },
  {
   "cell_type": "markdown",
   "id": "fdb39964-3e7c-4161-a5d3-597e82400aa2",
   "metadata": {},
   "source": [
    "## Отметка о выполнении"
   ]
  },
  {
   "attachments": {
    "e7957051-7652-472b-a46b-064a75698372.png": {
     "image/png": "[encoded data removed]"
    }
   },
   "cell_type": "markdown",
   "id": "f9b259e7-d508-444f-99f2-d9856b6808fd",
   "metadata": {},
   "source": [
    "![image.png](attachment:e7957051-7652-472b-a46b-064a75698372.png)"
   ]
  },
  {
   "cell_type": "markdown",
   "id": "0d3262aa-b48a-4530-866b-e3fc781b1c0a",
   "metadata": {},
   "source": [
    "## Решение"
   ]
  },
  {
   "cell_type": "code",
   "execution_count": null,
   "id": "06c75a29-721b-4691-9367-ffbe88391d9c",
   "metadata": {},
   "outputs": [],
   "source": [
    "x = int(input())\n",
    "y = int(input())\n",
    "p = int(input())\n",
    "\n",
    "soldiers = 0\n",
    "def switch(x, y, soldiers, count, turns, flag):\n",
    "    '''\n",
    "    Делаем проверку на то, входит ли значение\n",
    "    в интервал. \n",
    "    '''\n",
    "    add = False\n",
    "    val = 0\n",
    "    if flag == 0:\n",
    "        a = x - y\n",
    "        if a > 0:\n",
    "            b = y - (x - a)\n",
    "            if b <= 0:\n",
    "                z = soldiers - a\n",
    "                x -= z\n",
    "                if round((x)/0.61) >= z:\n",
    "                    add = True\n",
    "                    val = (x+z, y, soldiers, count), \n",
    "                if x/2*3 >= z:\n",
    "                    add = True\n",
    "                    val = (x+z, y, soldiers, count), \n",
    "                    flag = 1\n",
    "                if add and val not in turns:\n",
    "                    turns += val  \n",
    "    return turns, flag\n",
    "\n",
    "def bf_switches(x, y, soldiers):\n",
    "    \"\"\"\n",
    "    Перебор значений, подобранных\n",
    "    в switch\n",
    "    \"\"\"\n",
    "    actions = x\n",
    "    actions -= y\n",
    "    if actions >= 0:\n",
    "        y = 0\n",
    "    soldiers -= actions\n",
    "    if soldiers <= 0:\n",
    "        soldiers = 0\n",
    "    x -= soldiers\n",
    "    \n",
    "    return x, y, soldiers\n",
    "\n",
    "def check(x, y, soldiers, count):\n",
    "    '''\n",
    "    Проверка на валидность\n",
    "    '''\n",
    "    stop = False\n",
    "    if (x/0.61 < soldiers) and y > 0: \n",
    "        count = -1\n",
    "        stop = True\n",
    "    elif (x, y, soldiers) in values:\n",
    "        count = -1\n",
    "        stop = True\n",
    "    elif y <= 0 and soldiers <= 0:\n",
    "        stop = True\n",
    "    elif x <= 0:\n",
    "        count = -1\n",
    "        stop = True\n",
    "\n",
    "    return stop, count\n",
    "    \n",
    "flag = 0\n",
    "count = 1\n",
    "turns = tuple()\n",
    "values = tuple()\n",
    "while True:\n",
    "    actions = x\n",
    "    # Для первого прогона\n",
    "    if soldiers <= 0:\n",
    "        y -= actions\n",
    "        if y <= 0:\n",
    "            p = 0\n",
    "        else:\n",
    "            actions = 0\n",
    "    # Для всех остальных прогонов            \n",
    "    elif soldiers > 0:\n",
    "        turns, flag = switch(x, y, soldiers, count, turns, flag)\n",
    "        actions -= soldiers\n",
    "        if actions <= 0:\n",
    "            soldiers = abs(actions)\n",
    "            actions = 0\n",
    "        else:\n",
    "            soldiers = 0\n",
    "        y -= actions\n",
    "        if y <= 0:\n",
    "            p = 0\n",
    "            actions = abs(y)\n",
    "        x -= soldiers\n",
    "    \n",
    "    soldiers += p\n",
    "    stop, count = check(x, y, soldiers, count)\n",
    "    if stop:\n",
    "        break\n",
    "\n",
    "    values += (x, y, soldiers),\n",
    "    count += 1\n",
    "\n",
    "\n",
    "# print(turns, count)\n",
    "# Финальный блок, который ищет минимальный count\n",
    "if len(turns) != 0:\n",
    "    lower_limit = 5000\n",
    "    min_count = lower_limit\n",
    "    for values in turns:\n",
    "        x, y, soldiers, count = values\n",
    "        while True:\n",
    "            x, y, soldiers = bf_switches(x, y, soldiers)\n",
    "            stop, count = check(x, y, soldiers, count)\n",
    "            if stop:\n",
    "                break\n",
    "            else:\n",
    "                count += 1\n",
    "                \n",
    "        if count < min_count and count != -1:\n",
    "            min_count = count\n",
    "    if min_count != lower_limit:\n",
    "        count = min_count\n",
    "        \n",
    "print(count)"
   ]
  },
  {
   "cell_type": "markdown",
   "id": "3ec23359-e03e-44de-986c-23e51a0f2401",
   "metadata": {},
   "source": [
    "## Тесты и вспомогательные программы"
   ]
  },
  {
   "cell_type": "code",
   "execution_count": null,
   "id": "6c0f9257-c96b-43b2-bf59-951d85a6d217",
   "metadata": {},
   "outputs": [],
   "source": [
    "# string = '250 500 208'\n",
    "# string = '10 11 15'\n",
    "# string = '1 2 1'\n",
    "# string = '1 1 1'\n",
    "# string = '25 200 10'\n",
    "# string = '399 400 400'\n",
    "# string = '250 500 126'\n",
    "# string = '250 500 187'\n",
    "# string = '250 500 249'\n",
    "# string = '250 500 218'\n",
    "# string = '8 178 7'\n",
    "# string = '300 301 484'\n",
    "# string = '300 301 485'\n",
    "\n",
    "# x, y, p = map(int, string.split())"
   ]
  },
  {
   "cell_type": "code",
   "execution_count": null,
   "id": "73145fa0-4615-4733-8d77-0af25d95b404",
   "metadata": {},
   "outputs": [],
   "source": [
    "def calc_steps(string):\n",
    "    # print(string)\n",
    "    x, y, p = map(int, string.split())\n",
    "    soldiers = p\n",
    "    count = 0\n",
    "    while soldiers >= 0 and count < 25 and x >= 0:\n",
    "        print([x, y, soldiers])\n",
    "        actions = x\n",
    "        y -= actions \n",
    "        if y < 0:\n",
    "            actions = abs(y)\n",
    "            p = 0\n",
    "            y = 0\n",
    "        soldiers -= actions\n",
    "        # print(f'x: {(x / 100)*(x - soldiers)}, sold: {(soldiers+actions)/100*soldiers}')\n",
    "        # print(f'x: {round(x/soldiers, 3)}, sold: {round((soldiers+actions)/x, 3)}')\n",
    "        # print(x, soldiers, '!!!', soldiers+actions, x)\n",
    "        x -= soldiers\n",
    "        soldiers += p\n",
    "        count += 1"
   ]
  },
  {
   "cell_type": "code",
   "execution_count": null,
   "id": "b87103e1-733d-4af5-b75c-9cfb8e687425",
   "metadata": {},
   "outputs": [],
   "source": [
    "string = '300 1 485'\n",
    "string2 = '250 155 249'\n",
    "string3 = '250 154 249'\n",
    "string4 = '250 151 249'"
   ]
  },
  {
   "cell_type": "code",
   "execution_count": null,
   "id": "cb43509e-1c36-41b7-be0a-3a085a40c614",
   "metadata": {},
   "outputs": [],
   "source": [
    "calc_steps(string)"
   ]
  }
 ],
 "metadata": {
  "kernelspec": {
   "display_name": "Python 3 (ipykernel)",
   "language": "python",
   "name": "python3"
  },
  "language_info": {
   "codemirror_mode": {
    "name": "ipython",
    "version": 3
   },
   "file_extension": ".py",
   "mimetype": "text/x-python",
   "name": "python",
   "nbconvert_exporter": "python",
   "pygments_lexer": "ipython3",
   "version": "3.12.1"
  }
 },
 "nbformat": 4,
 "nbformat_minor": 5
}
