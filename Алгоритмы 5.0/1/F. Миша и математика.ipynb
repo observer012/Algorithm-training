{
 "cells": [
  {
   "cell_type": "markdown",
   "id": "ec51206f-c6c9-4aad-b7b4-56fb7636b2c0",
   "metadata": {},
   "source": [
    "# F. Миша и математика"
   ]
  },
  {
   "cell_type": "markdown",
   "id": "1d0699a4-8eb2-4b67-be39-c3fba8ff982f",
   "metadata": {},
   "source": [
    "## Отметка о выполнении"
   ]
  },
  {
   "attachments": {
    "eb6769e0-85ab-4b4d-bab3-27bef77a9e60.png": {
     "image/png": "[encoded data removed]"
    }
   },
   "cell_type": "markdown",
   "id": "df7c31e0-5c3e-4ed6-a478-c431a22c62a4",
   "metadata": {},
   "source": [
    "![image.png](attachment:eb6769e0-85ab-4b4d-bab3-27bef77a9e60.png)"
   ]
  },
  {
   "cell_type": "markdown",
   "id": "90d92a95-54fe-4469-b611-f8ae045942fb",
   "metadata": {},
   "source": [
    "## Решение"
   ]
  },
  {
   "cell_type": "code",
   "execution_count": null,
   "id": "abbbb468-17f4-4e76-bcaa-790263595c5f",
   "metadata": {},
   "outputs": [],
   "source": [
    "n = int(input())\n",
    "Numbers = list(map(int, input().split()))\n",
    "\n",
    "string = ''\n",
    "index = 0\n",
    "odd = 0 # нечетные\n",
    "for i in range(len(Numbers) - 1):\n",
    "    if Numbers[i] % 2 == 0:\n",
    "        if odd != 0:\n",
    "            if Numbers[i + 1] % 2 != 0:\n",
    "                string += 'x'\n",
    "            else:\n",
    "                string += '+'\n",
    "        else:\n",
    "            string += '+'\n",
    "            \n",
    "    elif Numbers[i] % 2 != 0:\n",
    "        if odd % 2 == 0:\n",
    "            if Numbers[i + 1] % 2 != 0:\n",
    "                string += 'x'\n",
    "                odd = Numbers[i]\n",
    "                index = i\n",
    "            else:\n",
    "                string += '+'\n",
    "                odd = Numbers[i]\n",
    "                index = i\n",
    "        else:\n",
    "            if i == index - 1:\n",
    "                string += 'x'\n",
    "                odd *= Numbers[i]\n",
    "                index = i\n",
    "            else: # проверить соседей\n",
    "                if Numbers[i + 1] % 2 != 0:\n",
    "                    string += 'x'\n",
    "                else:\n",
    "                    string += '+'\n",
    "\n",
    "print(string)"
   ]
  },
  {
   "cell_type": "code",
   "execution_count": null,
   "id": "8621f10c-9784-41a5-aea9-3138bd787d49",
   "metadata": {},
   "outputs": [],
   "source": []
  }
 ],
 "metadata": {
  "kernelspec": {
   "display_name": "Python 3 (ipykernel)",
   "language": "python",
   "name": "python3"
  },
  "language_info": {
   "codemirror_mode": {
    "name": "ipython",
    "version": 3
   },
   "file_extension": ".py",
   "mimetype": "text/x-python",
   "name": "python",
   "nbconvert_exporter": "python",
   "pygments_lexer": "ipython3",
   "version": "3.12.1"
  }
 },
 "nbformat": 4,
 "nbformat_minor": 5
}
