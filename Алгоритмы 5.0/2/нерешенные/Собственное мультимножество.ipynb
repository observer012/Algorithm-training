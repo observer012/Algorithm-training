{
 "cells": [
  {
   "cell_type": "code",
   "execution_count": 4,
   "id": "5182362c-4d41-4d33-b117-818a361e011c",
   "metadata": {},
   "outputs": [
    {
     "name": "stdout",
     "output_type": "stream",
     "text": [
      "3 [3, 13, 23]\n"
     ]
    },
    {
     "data": {
      "text/plain": [
       "[[], [], [], [3, 13, 23], [], [], [], [], [], []]"
      ]
     },
     "execution_count": 4,
     "metadata": {},
     "output_type": "execute_result"
    }
   ],
   "source": [
    "setsize = 10\n",
    "myset = [[] for _ in range(setsize)]\n",
    "\n",
    "def add(x):\n",
    "    myset[x % setsize].append(x)\n",
    "\n",
    "def find(x):\n",
    "    for now in myset[x % setsize]:\n",
    "        print(now, myset[x % setsize])\n",
    "        if now == x:\n",
    "            return True\n",
    "    return False\n",
    "\n",
    "def delete(x):\n",
    "    xlist = myset[x % setsize]\n",
    "    for i in range(len(xlist)):\n",
    "        if xlist[i] == x:\n",
    "            xlist[i], xlist[len(xlist) - 1] = xlist[len(xlist) - 1], xlist[i]\n",
    "            xlist.pop()\n",
    "            return\n",
    "\n",
    "\n",
    "add(3)\n",
    "add(13)\n",
    "add(23)\n",
    "find(3)\n",
    "\n",
    "myset"
   ]
  },
  {
   "cell_type": "code",
   "execution_count": null,
   "id": "7c4bddf7-b931-48c4-9cde-36006a39a8ad",
   "metadata": {},
   "outputs": [],
   "source": []
  }
 ],
 "metadata": {
  "kernelspec": {
   "display_name": "Python 3 (ipykernel)",
   "language": "python",
   "name": "python3"
  },
  "language_info": {
   "codemirror_mode": {
    "name": "ipython",
    "version": 3
   },
   "file_extension": ".py",
   "mimetype": "text/x-python",
   "name": "python",
   "nbconvert_exporter": "python",
   "pygments_lexer": "ipython3",
   "version": "3.12.1"
  }
 },
 "nbformat": 4,
 "nbformat_minor": 5
}
