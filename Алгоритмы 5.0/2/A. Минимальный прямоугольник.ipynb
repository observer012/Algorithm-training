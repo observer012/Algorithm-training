{
 "cells": [
  {
   "cell_type": "markdown",
   "id": "be842cd9-d8b7-4c8b-b0c6-72270099522a",
   "metadata": {},
   "source": [
    "# A. Минимальный прямоугольник"
   ]
  },
  {
   "cell_type": "markdown",
   "id": "85acd41f-d8ee-4f0f-99e6-9bd094a327d7",
   "metadata": {},
   "source": [
    "## Отметка о выполнении"
   ]
  },
  {
   "attachments": {
    "c0ab44a3-4d04-4027-bf6a-835e7745b337.png": {
     "image/png": "[encoded data removed]"
    }
   },
   "cell_type": "markdown",
   "id": "4670363a-02ec-4be5-9385-4efb68f3d283",
   "metadata": {},
   "source": [
    "![image.png](attachment:c0ab44a3-4d04-4027-bf6a-835e7745b337.png)"
   ]
  },
  {
   "cell_type": "markdown",
   "id": "9efad631-508f-4710-9d15-d66dfdf851ab",
   "metadata": {},
   "source": [
    "## Решение"
   ]
  },
  {
   "cell_type": "code",
   "execution_count": 9,
   "id": "edce311e-6ab6-4db1-a23b-78a72eba952d",
   "metadata": {},
   "outputs": [
    {
     "name": "stdin",
     "output_type": "stream",
     "text": [
      " 4\n",
      " 1 3\n",
      " 3 1\n",
      " 3 5\n",
      " 6 3\n"
     ]
    },
    {
     "name": "stdout",
     "output_type": "stream",
     "text": [
      "1 1 6 5\n"
     ]
    }
   ],
   "source": [
    "k = int(input())\n",
    "min_x = min_y =  1*10**9\n",
    "max_x = max_y = 0\n",
    "\n",
    "def search_min(min_x, x):\n",
    "    if x <= min_x:\n",
    "        min_x = x\n",
    "    return min_x\n",
    "\n",
    "def search_max(max_x, x):\n",
    "    if x >= max_x:\n",
    "        max_x = x\n",
    "    return max_x\n",
    "\n",
    "for i in range(k):\n",
    "    a, b = map(int, input().split())\n",
    "    min_x = search_min(min_x, a)\n",
    "    min_y = search_min(min_y, b)\n",
    "    max_x = search_max(max_x, a)\n",
    "    max_y = search_max(max_y, b)    \n",
    "\n",
    "print(min_x, min_y, max_x, max_y)\n"
   ]
  }
 ],
 "metadata": {
  "kernelspec": {
   "display_name": "Python 3 (ipykernel)",
   "language": "python",
   "name": "python3"
  },
  "language_info": {
   "codemirror_mode": {
    "name": "ipython",
    "version": 3
   },
   "file_extension": ".py",
   "mimetype": "text/x-python",
   "name": "python",
   "nbconvert_exporter": "python",
   "pygments_lexer": "ipython3",
   "version": "3.12.1"
  }
 },
 "nbformat": 4,
 "nbformat_minor": 5
}
