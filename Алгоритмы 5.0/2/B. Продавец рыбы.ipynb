{
 "cells": [
  {
   "cell_type": "markdown",
   "id": "805779dc-43be-4421-b8cf-c77bd743747e",
   "metadata": {},
   "source": [
    "# B. Продавец рыбы"
   ]
  },
  {
   "cell_type": "markdown",
   "id": "b04e0526-0127-4120-8544-cf222444a1df",
   "metadata": {},
   "source": [
    "## Отметка о выполнении"
   ]
  },
  {
   "attachments": {
    "4a8217c6-ab9d-4c44-8e18-93595c9726dc.png": {
     "image/png": "[encoded data removed]"
    }
   },
   "cell_type": "markdown",
   "id": "75fce52f-4f67-4cdc-80a7-3e6d4d358ee4",
   "metadata": {},
   "source": [
    "![image.png](attachment:4a8217c6-ab9d-4c44-8e18-93595c9726dc.png)"
   ]
  },
  {
   "cell_type": "markdown",
   "id": "4c5a4fd2-5b13-4d18-bac6-6c08e580d970",
   "metadata": {},
   "source": [
    "## Решение"
   ]
  },
  {
   "cell_type": "code",
   "execution_count": null,
   "id": "5809a904-86a2-407b-a6b2-33d416a138e7",
   "metadata": {},
   "outputs": [],
   "source": [
    "n, k = map(int, input().split())\n",
    "price = list(map(int, input().split()))\n",
    "\n",
    "\n",
    "def fish_seller(k, price):\n",
    "    ans = 0\n",
    "    l_price = len(price)\n",
    "    if k >= l_price:\n",
    "        k = l_price - 1\n",
    "\n",
    "    for i in range(l_price - 1):\n",
    "        for j in range(i+1, i+k+1):\n",
    "            result = price[j] - price[i]\n",
    "            if result >= ans:\n",
    "                ans = result\n",
    "                \n",
    "        if i+k+1 == l_price:\n",
    "            k -= 1\n",
    "            \n",
    "    print(ans)\n",
    "\n",
    "fish_seller(k, price)"
   ]
  },
  {
   "cell_type": "code",
   "execution_count": null,
   "id": "920f7810-79dc-4546-bf30-ffd3f7f46e2b",
   "metadata": {},
   "outputs": [],
   "source": []
  }
 ],
 "metadata": {
  "kernelspec": {
   "display_name": "Python 3 (ipykernel)",
   "language": "python",
   "name": "python3"
  },
  "language_info": {
   "codemirror_mode": {
    "name": "ipython",
    "version": 3
   },
   "file_extension": ".py",
   "mimetype": "text/x-python",
   "name": "python",
   "nbconvert_exporter": "python",
   "pygments_lexer": "ipython3",
   "version": "3.12.1"
  }
 },
 "nbformat": 4,
 "nbformat_minor": 5
}
