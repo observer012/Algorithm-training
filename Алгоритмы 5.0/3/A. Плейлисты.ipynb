{
 "cells": [
  {
   "cell_type": "markdown",
   "id": "e67c42ab-3b7e-4487-b649-765aa6350cef",
   "metadata": {},
   "source": [
    "# A. Плейлисты"
   ]
  },
  {
   "cell_type": "markdown",
   "id": "a42a07c1-2659-48fc-9d46-67c1c9ee2061",
   "metadata": {},
   "source": [
    "## Отметка о выполнении"
   ]
  },
  {
   "attachments": {
    "a175b136-cba2-452f-b652-979379414f7b.png": {
     "image/png": "[encoded data removed]"
    }
   },
   "cell_type": "markdown",
   "id": "7bdeebce-938d-4b46-9cae-1ce0e97167d0",
   "metadata": {},
   "source": [
    "![image.png](attachment:a175b136-cba2-452f-b652-979379414f7b.png)"
   ]
  },
  {
   "cell_type": "markdown",
   "id": "296c7df7-238e-4655-a6b7-bfc4da8a8bf0",
   "metadata": {},
   "source": [
    "## Решение"
   ]
  },
  {
   "cell_type": "code",
   "execution_count": null,
   "id": "25a0cfc2-e261-4a62-b89d-04d06e66c5cd",
   "metadata": {},
   "outputs": [],
   "source": [
    "n = int(input())\n",
    "for i in range(n):\n",
    "    input()\n",
    "    if i == 0:\n",
    "        ans = set(map(str, input().split()))\n",
    "    else:\n",
    "        ans &= set(map(str, input().split()))\n",
    "\n",
    "print(len(ans))\n",
    "[print(el, end = ' ') for el in sorted(ans)];"
   ]
  },
  {
   "cell_type": "code",
   "execution_count": null,
   "id": "68d27383-def8-4b5f-9a6a-04a1cb95de77",
   "metadata": {},
   "outputs": [],
   "source": []
  }
 ],
 "metadata": {
  "kernelspec": {
   "display_name": "Python 3 (ipykernel)",
   "language": "python",
   "name": "python3"
  },
  "language_info": {
   "codemirror_mode": {
    "name": "ipython",
    "version": 3
   },
   "file_extension": ".py",
   "mimetype": "text/x-python",
   "name": "python",
   "nbconvert_exporter": "python",
   "pygments_lexer": "ipython3",
   "version": "3.12.1"
  }
 },
 "nbformat": 4,
 "nbformat_minor": 5
}
