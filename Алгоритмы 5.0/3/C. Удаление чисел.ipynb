{
 "cells": [
  {
   "cell_type": "markdown",
   "id": "f7f83212-6344-4e73-ad36-18c70df28455",
   "metadata": {},
   "source": [
    "# C. Удаление чисел"
   ]
  },
  {
   "cell_type": "markdown",
   "id": "53de102c-7145-42e9-be99-4bb8e2cde056",
   "metadata": {},
   "source": [
    "## Отметка о выполнении"
   ]
  },
  {
   "attachments": {
    "acef7351-bfe4-45ad-8211-85c1af167e4c.png": {
     "image/png": "[encoded data removed]"
    }
   },
   "cell_type": "markdown",
   "id": "8a7942b9-7951-4265-b57d-de61ab8c5270",
   "metadata": {},
   "source": [
    "![image.png](attachment:acef7351-bfe4-45ad-8211-85c1af167e4c.png)"
   ]
  },
  {
   "cell_type": "markdown",
   "id": "d504b4c7-540b-4a80-acfb-8a4369cc4926",
   "metadata": {},
   "source": [
    "## Решение"
   ]
  },
  {
   "cell_type": "code",
   "execution_count": null,
   "id": "ba58bfae-32ce-4d2f-b04b-e2b4232e401b",
   "metadata": {},
   "outputs": [],
   "source": [
    "n = int(input())\n",
    "inp_val = list(map(int, input().split()))\n",
    "dict_a = {}\n",
    "for i in range(len(inp_val)):\n",
    "    if inp_val[i] not in dict_a:\n",
    "        dict_a[inp_val[i]] = 1\n",
    "    elif inp_val[i] in dict_a:\n",
    "        dict_a[inp_val[i]] += 1\n",
    "\n",
    "unique_val = sorted(list(dict_a.keys()))\n",
    "max_count = 0\n",
    "for i in range(1, len(unique_val)):\n",
    "    val_left = unique_val[i - 1]\n",
    "    val_right = unique_val[i]\n",
    "    diff = val_right - val_left\n",
    "    if diff == 1:\n",
    "        result = dict_a[val_left] + dict_a[val_right]\n",
    "        if result > max_count:\n",
    "            max_count = result\n",
    "\n",
    "if max_count == 0:\n",
    "    if len(unique_val) > 1:\n",
    "        ans = len(inp_val) - 1\n",
    "    else:\n",
    "        ans = 0\n",
    "else:\n",
    "    ans = len(inp_val) - max_count\n",
    "    \n",
    "print(ans)"
   ]
  },
  {
   "cell_type": "code",
   "execution_count": null,
   "id": "386897b8-78d4-44ad-bf38-a22790277a8f",
   "metadata": {},
   "outputs": [],
   "source": []
  }
 ],
 "metadata": {
  "kernelspec": {
   "display_name": "Python 3 (ipykernel)",
   "language": "python",
   "name": "python3"
  },
  "language_info": {
   "codemirror_mode": {
    "name": "ipython",
    "version": 3
   },
   "file_extension": ".py",
   "mimetype": "text/x-python",
   "name": "python",
   "nbconvert_exporter": "python",
   "pygments_lexer": "ipython3",
   "version": "3.12.1"
  }
 },
 "nbformat": 4,
 "nbformat_minor": 5
}
