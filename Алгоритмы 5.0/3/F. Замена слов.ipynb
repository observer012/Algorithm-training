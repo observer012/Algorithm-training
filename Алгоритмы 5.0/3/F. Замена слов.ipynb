{
 "cells": [
  {
   "cell_type": "markdown",
   "id": "148edcde-49e6-41a9-b8de-4dd908bebba0",
   "metadata": {},
   "source": [
    "НЕ РЕШЕНА"
   ]
  },
  {
   "cell_type": "code",
   "execution_count": null,
   "id": "c6ed29ff-979a-4cc0-b31b-e96d887aba76",
   "metadata": {},
   "outputs": [],
   "source": [
    "str1 = list(input().split())\n",
    "str2 = list(input().split())"
   ]
  },
  {
   "cell_type": "code",
   "execution_count": null,
   "id": "b38ebc2c-57f2-43ac-a749-62aee539a5e5",
   "metadata": {},
   "outputs": [],
   "source": []
  },
  {
   "cell_type": "code",
   "execution_count": null,
   "id": "16fae921-2365-48ad-a0eb-c9f251ffc0b6",
   "metadata": {},
   "outputs": [],
   "source": [
    "def who_is_faster(massive):\n",
    "    A = []\n",
    "    s = ''\n",
    "    for el in massive:\n",
    "        A.append(el)\n",
    "        s += el"
   ]
  },
  {
   "cell_type": "code",
   "execution_count": null,
   "id": "f1d74cf3-dffc-4f60-81c8-ca77013121ea",
   "metadata": {},
   "outputs": [],
   "source": [
    "massive = 'a' * 999999 + 'b'\n",
    "massive1 = ['a' for i in range(999999)] + ['b']\n",
    "massive2 = set(['a' for i in range(999999)])"
   ]
  },
  {
   "cell_type": "code",
   "execution_count": null,
   "id": "280b39c9-b0fe-499e-a393-071bbc2b74cf",
   "metadata": {},
   "outputs": [],
   "source": [
    "type(massive), type(massive1), type(massive2)"
   ]
  },
  {
   "cell_type": "code",
   "execution_count": null,
   "id": "f83840b0-b53d-4bb6-93ed-fcb974b28768",
   "metadata": {},
   "outputs": [],
   "source": [
    "%%time\n",
    "for el in massive:\n",
    "    if el == 'b':\n",
    "        print('yes')\n",
    "        break"
   ]
  },
  {
   "cell_type": "code",
   "execution_count": null,
   "id": "5804d3b7-f16b-48ed-a395-e7e90a403796",
   "metadata": {},
   "outputs": [],
   "source": [
    "%%time\n",
    "if 'b' in massive:\n",
    "    print('yes')"
   ]
  },
  {
   "cell_type": "code",
   "execution_count": null,
   "id": "9dd403be-5385-4bfe-b469-b1970b15f718",
   "metadata": {},
   "outputs": [],
   "source": [
    "%%time\n",
    "who_is_faster(massive2)"
   ]
  },
  {
   "cell_type": "code",
   "execution_count": null,
   "id": "b4083293-3b52-48bd-9991-413903f62315",
   "metadata": {},
   "outputs": [],
   "source": [
    "set(['asda', 'asda', 'ahsda'])"
   ]
  },
  {
   "cell_type": "code",
   "execution_count": null,
   "id": "ff3c64d8-9006-4b62-a741-58a56d99173a",
   "metadata": {},
   "outputs": [],
   "source": [
    "# dic = 'a b'\n",
    "# dic = set(dic.split())\n",
    "# string = 'abdafb basrt casds dsasa a'\n",
    "# string = list(string.split())\n",
    "\n",
    "# dic = 'aa bc aaa'\n",
    "# dic = list(dic.split())\n",
    "# string = 'a aa aaa bcd abcd'\n",
    "# string = list(string.split())\n",
    "\n",
    "dic = set(input().split())\n",
    "string = list(input().split())\n",
    "\n",
    "chars = {} # словарь буква-слов\n",
    "for el in dic:\n",
    "    length = len(el)\n",
    "    if length not in chars:\n",
    "        chars[length] = [el]\n",
    "    elif length in chars:\n",
    "        chars[length].append(el)\n",
    "# print(chars)\n",
    "        \n",
    "my_str = ''\n",
    "total_str = ''\n",
    "symb_count = 0\n",
    "abb_word = {}\n",
    "for word in string:\n",
    "    if word not in abb_word:\n",
    "        for char in word:\n",
    "            my_str += char\n",
    "            symb_count += 1\n",
    "            if symb_count in chars:\n",
    "                # print(symb_count, 'symb_count', my_str, chars[symb_count])\n",
    "                if my_str in chars[symb_count]:\n",
    "                    # print(my_str, 'my_str')\n",
    "                    for el in chars[symb_count]:\n",
    "                        if my_str == el: \n",
    "                            if word not in abb_word:\n",
    "                                abb_word[word] = my_str\n",
    "                            total_str += my_str + ' '\n",
    "                            my_str = ''\n",
    "                            symb_count = 0\n",
    "                            break\n",
    "                    if symb_count == 0:\n",
    "                        break\n",
    "                        \n",
    "        if symb_count != 0:\n",
    "            if word not in abb_word:\n",
    "                abb_word[word] = my_str\n",
    "            total_str += my_str + ' '\n",
    "            my_str = ''\n",
    "            symb_count = 0\n",
    "            \n",
    "    elif word in abb_word:\n",
    "        total_str += abb_word[word] + ' '\n",
    "\n",
    "# print(abb_word)\n",
    "print(total_str.strip())"
   ]
  },
  {
   "cell_type": "code",
   "execution_count": null,
   "id": "c7c3be74-0bd7-4570-8594-548b562baf09",
   "metadata": {},
   "outputs": [],
   "source": []
  }
 ],
 "metadata": {
  "kernelspec": {
   "display_name": "Python 3 (ipykernel)",
   "language": "python",
   "name": "python3"
  },
  "language_info": {
   "codemirror_mode": {
    "name": "ipython",
    "version": 3
   },
   "file_extension": ".py",
   "mimetype": "text/x-python",
   "name": "python",
   "nbconvert_exporter": "python",
   "pygments_lexer": "ipython3",
   "version": "3.12.1"
  }
 },
 "nbformat": 4,
 "nbformat_minor": 5
}
