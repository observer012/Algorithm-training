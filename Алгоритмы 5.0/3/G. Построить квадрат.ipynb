{
 "cells": [
  {
   "cell_type": "code",
   "execution_count": null,
   "id": "86da7313-fe4b-4400-ac91-4b73d339592b",
   "metadata": {},
   "outputs": [],
   "source": [
    "a = ((0, 2), (2, 0), (2, 2))\n",
    "max(a)"
   ]
  },
  {
   "cell_type": "code",
   "execution_count": null,
   "id": "6801723e-9d09-4c1d-a11a-c6a5cbad26c8",
   "metadata": {},
   "outputs": [],
   "source": [
    "n = int(input())\n",
    "coords = set()\n",
    "axes_val = []\n",
    "for i in range(n):\n",
    "    inp_val = tuple(map(int, input().split()))\n",
    "    axes_val.extend(list(inp_val))\n",
    "    coords.add((inp_val))\n",
    "\n",
    "print(coords)\n",
    "print(axes_val)"
   ]
  },
  {
   "cell_type": "code",
   "execution_count": null,
   "id": "2b06eab4-c156-4a19-be32-364542e6c10d",
   "metadata": {},
   "outputs": [],
   "source": [
    "# coords = {(0, 1), (1, 0)}\n",
    "# axes_val = [0, 1, 1, 0]\n",
    "\n",
    "# coords = {(-1, 1), (1, 1), (-1, -1), (1, -1)}\n",
    "# axes_val = [0, 1, 1, 0, -1]\n",
    "\n",
    "coords = {(0, 2), (2, 0), (2, 2)}\n",
    "axes_val = [0, 2, 2, 0, 2]\n",
    "\n",
    "\n",
    "ma = max(axes_val)\n",
    "mi = min(axes_val)\n",
    "my_set = set(((mi, mi), (mi, ma), (ma, mi), (ma, ma)))\n",
    "ans = set()\n",
    "for el in my_set:\n",
    "    if el not in coords:\n",
    "        ans.add(el)\n",
    "\n",
    "length = len(ans)\n",
    "print(length)\n",
    "if length != 0:\n",
    "    [print(*el) for el in sorted(ans)]"
   ]
  },
  {
   "cell_type": "code",
   "execution_count": 5,
   "id": "e46eb9f2-d5b3-4f16-833c-f99167c4480c",
   "metadata": {},
   "outputs": [
    {
     "name": "stdout",
     "output_type": "stream",
     "text": [
      "{(-3, 3): [(-3, 3)], (-3, -1): [(-3, -1)], (1, 3): [(1, 3)], (-1, 1): [(1, -1)]}\n",
      "set()\n"
     ]
    }
   ],
   "source": [
    "# coords = {(0, 2), (2, 0), (2, 2), (1, 1)}\n",
    "coords = {(0, 2), (2, 0), (2, 2), (1, 1), (1, 3), (1, -1), (1, -2), (1, 4)}\n",
    "coords = {(-3, 3), (1, 3), (1, -1), (-3, -1)}\n",
    "dic = {}\n",
    "pairs = set()\n",
    "for el in coords:\n",
    "    address = 0\n",
    "    min_el = min(el[0], el[1])\n",
    "    max_el = max(el[0], el[1])\n",
    "    a = (min_el, max_el)\n",
    "    a_max = (max_el, max_el)\n",
    "    a_min = (min_el, min_el)\n",
    "    if a in dic:\n",
    "        dic[a].append(el)\n",
    "        address = a\n",
    "        pairs.add(min_el)\n",
    "        pairs.add(max_el)\n",
    "       \n",
    "    elif a_max in dic:\n",
    "        dic[a_max].append(el)\n",
    "        address = a_max\n",
    "        pairs.add(max_el)\n",
    "        \n",
    "    elif a_min in dic:\n",
    "        dic[a_min].append(el)\n",
    "        address = a_min\n",
    "        pairs.add(min_el)\n",
    "    \n",
    "    elif min_el == max_el:\n",
    "        # print(min_el, max_el)\n",
    "        flag = 0\n",
    "        for val in pairs:\n",
    "            pa_min = min(val, min_el)\n",
    "            pa_max = max(val, min_el)\n",
    "            b = (pa_min, pa_max)\n",
    "            if b in dic:\n",
    "                dic[b].append(el)\n",
    "                address = b # &&&&&\n",
    "                flag = 1\n",
    "                if len(dic[address]) >= 4:\n",
    "                    ans = 0\n",
    "                    break\n",
    "        address = 0  \n",
    "        # if flag != 1:\n",
    "        #     dic[el] = [el]\n",
    "        #     pairs.add(min_el)\n",
    "            \n",
    "    elif el not in dic:\n",
    "        min_el = min(el[0], el[1])\n",
    "        max_el = max(el[0], el[1])\n",
    "        dic[(min_el, max_el)] = [(el)]\n",
    "\n",
    "    if address != 0:\n",
    "        if len(dic[address]) >= 4:\n",
    "            ans = 0\n",
    "            break\n",
    "    \n",
    "    \n",
    "print(dic)\n",
    "print(pairs)"
   ]
  },
  {
   "cell_type": "code",
   "execution_count": 8,
   "id": "ec8d30d6-0aa9-41fe-8de0-9942f4f234d0",
   "metadata": {},
   "outputs": [],
   "source": [
    "a = set((-4, 3))\n",
    "b = set((-4, -2))\n",
    "c = set((1, 3))\n",
    "d = set((1, -2))"
   ]
  },
  {
   "cell_type": "code",
   "execution_count": 23,
   "id": "65031c93-9f79-4b29-8c37-75d14912adc2",
   "metadata": {},
   "outputs": [
    {
     "name": "stdout",
     "output_type": "stream",
     "text": [
      "{-4}\n",
      "{3}\n",
      "{-4}\n",
      "{-2}\n",
      "{3}\n",
      "{1}\n",
      "{-2}\n",
      "{1}\n"
     ]
    }
   ],
   "source": [
    "coords = list(map(set, ((-4, 3), (-4, -2), (1, 3), (1, -2))))\n",
    "\n",
    "for pair in coords:\n",
    "    for el in coords:\n",
    "        if pair != el:\n",
    "            result = pair & el\n",
    "            if len(result) != 0:\n",
    "                print(result)"
   ]
  },
  {
   "cell_type": "code",
   "execution_count": 25,
   "id": "270acb68-c001-40a9-9de0-4b302070996d",
   "metadata": {},
   "outputs": [
    {
     "data": {
      "text/plain": [
       "{4}"
      ]
     },
     "execution_count": 25,
     "metadata": {},
     "output_type": "execute_result"
    }
   ],
   "source": [
    "a & b"
   ]
  },
  {
   "cell_type": "code",
   "execution_count": 10,
   "id": "fd8f3cf9-ae33-40b7-a5fa-dc9ea9f5ad6a",
   "metadata": {},
   "outputs": [
    {
     "data": {
      "text/plain": [
       "{1}"
      ]
     },
     "execution_count": 10,
     "metadata": {},
     "output_type": "execute_result"
    }
   ],
   "source": [
    "c & d"
   ]
  },
  {
   "cell_type": "code",
   "execution_count": 11,
   "id": "d187d163-d7c2-417a-aa1e-bf58c4751647",
   "metadata": {},
   "outputs": [
    {
     "data": {
      "text/plain": [
       "{-2}"
      ]
     },
     "execution_count": 11,
     "metadata": {},
     "output_type": "execute_result"
    }
   ],
   "source": [
    "b & d"
   ]
  },
  {
   "cell_type": "code",
   "execution_count": null,
   "id": "1b1a57ef-036a-41f3-9e89-7a5abb864a92",
   "metadata": {},
   "outputs": [],
   "source": []
  }
 ],
 "metadata": {
  "kernelspec": {
   "display_name": "Python 3 (ipykernel)",
   "language": "python",
   "name": "python3"
  },
  "language_info": {
   "codemirror_mode": {
    "name": "ipython",
    "version": 3
   },
   "file_extension": ".py",
   "mimetype": "text/x-python",
   "name": "python",
   "nbconvert_exporter": "python",
   "pygments_lexer": "ipython3",
   "version": "3.12.1"
  }
 },
 "nbformat": 4,
 "nbformat_minor": 5
}
