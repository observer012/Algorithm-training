{
 "cells": [
  {
   "cell_type": "markdown",
   "id": "fc7b74f5-f9f8-49d5-8817-9609ab1ed16c",
   "metadata": {},
   "source": [
    "НЕ РЕШЕНА"
   ]
  },
  {
   "cell_type": "code",
   "execution_count": null,
   "id": "a02b1e4f-7bde-44b2-b53b-d247e3ca1c72",
   "metadata": {},
   "outputs": [],
   "source": [
    "n, k = map(int, input().split())\n",
    "val = list(map(int, input().split()))"
   ]
  },
  {
   "cell_type": "code",
   "execution_count": null,
   "id": "c41e4bc5-9bec-4f3f-8066-194e4129d1e3",
   "metadata": {},
   "outputs": [],
   "source": [
    "def rec_numb(n, k, val):\n",
    "    if k > n:\n",
    "        k = n - 1\n",
    "    for i in range(len(val)-k):\n",
    "        window = val[i:i+k+1]\n",
    "        if len(window) != len(set(window)):\n",
    "            print(len(window), k)\n",
    "            print('YES')\n",
    "            return\n",
    "    print('NO')    "
   ]
  },
  {
   "cell_type": "code",
   "execution_count": null,
   "id": "3f110702-015f-47e8-acf6-6a1803b24204",
   "metadata": {},
   "outputs": [],
   "source": [
    "n, k = 4, 1\n",
    "val = [1, 0, 1, 1]\n",
    "rec_numb(n, k, val)"
   ]
  },
  {
   "cell_type": "code",
   "execution_count": null,
   "id": "e721f26f-8e18-4846-ba53-d5a3e03e0649",
   "metadata": {},
   "outputs": [],
   "source": [
    "n, k = 4, 2\n",
    "val = [1, 2, 3, 1]\n",
    "rec_numb(n, k, val)"
   ]
  },
  {
   "cell_type": "code",
   "execution_count": null,
   "id": "df6202f8-c3ee-4154-a244-7c8c9ecc2b9d",
   "metadata": {},
   "outputs": [],
   "source": [
    "n, k = 6, 2\n",
    "val = [1, 2, 3, 1, 2, 3]\n",
    "rec_numb(n, k, val)"
   ]
  },
  {
   "cell_type": "code",
   "execution_count": null,
   "id": "d5d42168-3b22-4123-a77b-e21ce4fd951a",
   "metadata": {},
   "outputs": [],
   "source": [
    "n, k = 10, 20\n",
    "val = [1, 2, 3, 4, 5, 6, 7, 8, 9, 10]\n",
    "rec_numb(n, k, val)"
   ]
  },
  {
   "cell_type": "code",
   "execution_count": null,
   "id": "37b40c21-2cd0-470a-b332-18bde30c8868",
   "metadata": {},
   "outputs": [],
   "source": [
    "n, k = map(int, input().split())\n",
    "val = list(map(int, input().split()))\n",
    "\n",
    "def rec_numb(n, k, val):\n",
    "    if k >= n:\n",
    "        k = n - 1\n",
    "    for i in range(len(val)-k):\n",
    "        window = val[i:i+k+1]\n",
    "        # print(val[i:i+k+1])\n",
    "        if len(window) != len(set(window)):\n",
    "            print('YES')\n",
    "            return\n",
    "    print('NO')\n",
    "\n",
    "rec_numb(n, k, val)"
   ]
  },
  {
   "cell_type": "code",
   "execution_count": null,
   "id": "9aa2b78b-53a4-4bd1-9e03-579b78089b43",
   "metadata": {},
   "outputs": [],
   "source": []
  }
 ],
 "metadata": {
  "kernelspec": {
   "display_name": "Python 3 (ipykernel)",
   "language": "python",
   "name": "python3"
  },
  "language_info": {
   "codemirror_mode": {
    "name": "ipython",
    "version": 3
   },
   "file_extension": ".py",
   "mimetype": "text/x-python",
   "name": "python",
   "nbconvert_exporter": "python",
   "pygments_lexer": "ipython3",
   "version": "3.12.1"
  }
 },
 "nbformat": 4,
 "nbformat_minor": 5
}
