{
 "cells": [
  {
   "cell_type": "markdown",
   "id": "f112daa2-dbce-41ce-af20-91245d6c7c0d",
   "metadata": {},
   "source": [
    "1. Найти стороны прямоугольника;\n",
    "2. Найти ближайшие к пловцу углы;\n",
    "   3. Если координаты не пересекаются с одной из сторон, тогда выбрать ближайшую точку (NS)\n",
    "   4. Если пловец находится между двух точек, то ближе к нему одна сторона (N)\n",
    "4. Проверить не находится ли пловец на плоту"
   ]
  },
  {
   "cell_type": "markdown",
   "id": "38fe9ca0-f7b2-460e-a0d2-1b4a7b55acc1",
   "metadata": {},
   "source": [
    "### Найдем стороны прямоугольника "
   ]
  },
  {
   "cell_type": "code",
   "execution_count": 1,
   "id": "b03b06df-dc0e-46dd-9b8d-1c3b0c0ce583",
   "metadata": {},
   "outputs": [
    {
     "data": {
      "text/plain": [
       "{'SW': (-1, -2), 'NE': (5, 3), 'NW': (-1, 3), 'SE': (5, -2)}"
      ]
     },
     "execution_count": 1,
     "metadata": {},
     "output_type": "execute_result"
    }
   ],
   "source": [
    "coords = [-1, -2, 5, 3, 7, 1]\n",
    "raft = ()\n",
    "for i in range(0, 4, 2):\n",
    "    raft += ((coords[i], coords[i+1])),\n",
    "\n",
    "raft += (raft[0][0], raft[1][1]),\n",
    "raft += (raft[1][0], raft[0][1]),\n",
    "\n",
    "sides = ['SW', 'NE', 'NW', 'SE']\n",
    "sides = {sides[i]: raft[i] for i in range(len(sides))}\n",
    "sides"
   ]
  },
  {
   "cell_type": "code",
   "execution_count": 2,
   "id": "1c9c1751-37fd-4818-b1ef-d99859b5b867",
   "metadata": {},
   "outputs": [
    {
     "data": {
      "text/plain": [
       "(7, 1)"
      ]
     },
     "execution_count": 2,
     "metadata": {},
     "output_type": "execute_result"
    }
   ],
   "source": [
    "# координаты пловца\n",
    "swimmer = coords[-2], coords[-1]\n",
    "swimmer"
   ]
  },
  {
   "cell_type": "markdown",
   "id": "bb54bb07-e191-49a5-ae14-ecafb313422f",
   "metadata": {},
   "source": [
    "### Найдем ближайшие углы"
   ]
  },
  {
   "cell_type": "markdown",
   "id": "a0b010ca-0de3-417d-9ab5-e2d752051e3e",
   "metadata": {},
   "source": [
    "формула расстояние между точками"
   ]
  },
  {
   "cell_type": "code",
   "execution_count": 3,
   "id": "48209e37-204a-4783-a7f5-59939e6840bb",
   "metadata": {},
   "outputs": [],
   "source": [
    "def dis_b2d(x1, y1, x2, y2):\n",
    "    d = ((x2 - x1)**2 + (y2 - y1)**2)**0.5\n",
    "    return round(d, 2)"
   ]
  },
  {
   "cell_type": "code",
   "execution_count": 4,
   "id": "88ecb0f9-f4f8-472a-a8cc-07000f5ba43a",
   "metadata": {},
   "outputs": [
    {
     "name": "stdout",
     "output_type": "stream",
     "text": [
      "{'SW': 8.54, 'NW': 8.25, 'SE': 3.61, 'NE': 2.83}\n"
     ]
    },
    {
     "ename": "KeyError",
     "evalue": "slice(-2, None, 1)",
     "output_type": "error",
     "traceback": [
      "\u001b[1;31m---------------------------------------------------------------------------\u001b[0m",
      "\u001b[1;31mKeyError\u001b[0m                                  Traceback (most recent call last)",
      "Cell \u001b[1;32mIn[4], line 20\u001b[0m\n\u001b[0;32m      8\u001b[0m \u001b[38;5;66;03m# print(dist_info)\u001b[39;00m\n\u001b[0;32m      9\u001b[0m \n\u001b[0;32m     10\u001b[0m \n\u001b[1;32m   (...)\u001b[0m\n\u001b[0;32m     16\u001b[0m     \u001b[38;5;66;03m#     min_dist = result\u001b[39;00m\n\u001b[0;32m     17\u001b[0m     \u001b[38;5;66;03m#     ans.append(k)\u001b[39;00m\n\u001b[0;32m     19\u001b[0m \u001b[38;5;28mprint\u001b[39m(ans)\n\u001b[1;32m---> 20\u001b[0m ans \u001b[38;5;241m=\u001b[39m \u001b[43mans\u001b[49m\u001b[43m[\u001b[49m\u001b[38;5;241;43m-\u001b[39;49m\u001b[38;5;241;43m2\u001b[39;49m\u001b[43m:\u001b[49m\u001b[43m:\u001b[49m\u001b[38;5;241;43m1\u001b[39;49m\u001b[43m]\u001b[49m\n",
      "\u001b[1;31mKeyError\u001b[0m: slice(-2, None, 1)"
     ]
    }
   ],
   "source": [
    "# надо написать словарь с сторонами и их расстоянием до плавца. Отсортировать.\n",
    "\n",
    "min_dist = dis_b2d(*swimmer, *sides['SW'])\n",
    "ans = ['SW']\n",
    "\n",
    "dist_info = {k: dis_b2d(*swimmer, *w) for k, w in sides.items()}\n",
    "ans = dict(sorted(dist_info.items(), key = lambda item: item[1], reverse=True))\n",
    "# print(dist_info)\n",
    "\n",
    "\n",
    "# for k, w in sides.items():\n",
    "#     result = dis_b2d(*swimmer, *w)\n",
    "#     print(result, k)\n",
    "    \n",
    "    # if result <= min_dist:\n",
    "    #     min_dist = result\n",
    "    #     ans.append(k)\n",
    "\n",
    "print(ans)\n",
    "ans = ans[-2::1]"
   ]
  },
  {
   "cell_type": "markdown",
   "id": "2bb17f93-192c-4f4d-9250-66f533023e15",
   "metadata": {},
   "source": [
    "#### С"
   ]
  },
  {
   "cell_type": "code",
   "execution_count": null,
   "id": "f1b81945-c00a-4785-b4a0-f80fef0aaeef",
   "metadata": {},
   "outputs": [],
   "source": [
    "best_min = [*sides[ans[0]], *sides[ans[1]]]\n",
    "ans = ans[-1]\n",
    "best_min"
   ]
  },
  {
   "cell_type": "code",
   "execution_count": null,
   "id": "74a8b1af-e929-49a8-93dd-809388f2edca",
   "metadata": {},
   "outputs": [],
   "source": [
    "def hight_low(i, j, res):\n",
    "    low_range = min(best_min[i], best_min[j])\n",
    "    hight_range = max(best_min[i], best_min[j])\n",
    "    if low_range <= swimmer[i] <= hight_range:\n",
    "        print(ans[res])\n",
    "    else:\n",
    "        print(ans)"
   ]
  },
  {
   "cell_type": "code",
   "execution_count": null,
   "id": "0a0dfb11-c772-4bc9-8038-ed2ca854d3c6",
   "metadata": {},
   "outputs": [],
   "source": [
    "if best_min[0] == best_min[2]:\n",
    "    hight_low(1, 3, 1)\n",
    "elif best_min[1] == best_min[3]:\n",
    "    hight_low(0, 2, 0)\n",
    "else:\n",
    "    print(ans)"
   ]
  },
  {
   "cell_type": "markdown",
   "id": "8aa0d72c-7b8d-49b2-83e8-73a2778c241b",
   "metadata": {},
   "source": [
    "### Обшее решение"
   ]
  },
  {
   "cell_type": "code",
   "execution_count": null,
   "id": "49c3fe77-7e62-4f7e-9bb1-629bd40f9402",
   "metadata": {},
   "outputs": [],
   "source": [
    "# coords = [int(input()) for i in range(6)]\n",
    "\n",
    "def solution(coords):\n",
    "    def dis_b2d(x1, y1, x2, y2):\n",
    "        d = ((x2 - x1)**2 + (y2 - y1)**2)**0.5\n",
    "        return round(d, 2)\n",
    "    \n",
    "    def hight_low(i, j, res):\n",
    "        low_range = min(best_min[i], best_min[j])\n",
    "        hight_range = max(best_min[i], best_min[j])\n",
    "        if low_range <= swimmer[i] <= hight_range:\n",
    "            print(ans[res])\n",
    "        else:\n",
    "            print(ans)\n",
    "    \n",
    "    raft = ()\n",
    "    for i in range(0, 4, 2):\n",
    "        raft += ((coords[i], coords[i+1])),\n",
    "    \n",
    "    raft += (raft[0][0], raft[1][1]),\n",
    "    raft += (raft[1][0], raft[0][1]),\n",
    "    \n",
    "    sides = ['SW', 'NE', 'NW', 'SE']\n",
    "    sides = {sides[i]: raft[i] for i in range(len(sides))}\n",
    "    \n",
    "    swimmer = coords[-2], coords[-1]\n",
    "    \n",
    "    min_dist = dis_b2d(*swimmer, *sides['SW'])\n",
    "    ans = ['SW']\n",
    "    for k, w in sides.items():\n",
    "        result = dis_b2d(*swimmer, *w)\n",
    "        if result <= min_dist:\n",
    "            min_dist = result\n",
    "            ans.append(k)\n",
    "    \n",
    "    ans = ans[-2::1]\n",
    "    \n",
    "    best_min = [*sides[ans[0]], *sides[ans[1]]]\n",
    "    ans = ans[-1]\n",
    "    \n",
    "    if best_min[0] == best_min[2]:\n",
    "        hight_low(1, 3, 1)\n",
    "    elif best_min[1] == best_min[3]:\n",
    "        hight_low(0, 2, 0)\n",
    "    else:\n",
    "        print(ans)"
   ]
  },
  {
   "cell_type": "code",
   "execution_count": null,
   "id": "a535b4bb-a144-4bed-ba56-cfdaa04721d3",
   "metadata": {},
   "outputs": [],
   "source": [
    "solution([-1, -2, 5, 3, -4, 1])"
   ]
  },
  {
   "cell_type": "code",
   "execution_count": null,
   "id": "1c589e47-ea26-4873-ae52-180057c5631f",
   "metadata": {},
   "outputs": [],
   "source": [
    "solution([-1, -2, 5, 3, -4, 6])"
   ]
  },
  {
   "cell_type": "code",
   "execution_count": null,
   "id": "05c5cb42-52e9-412e-86c8-3e87978a5a68",
   "metadata": {},
   "outputs": [],
   "source": [
    "solution([-1, -2, 5, 3, 1, 4])"
   ]
  },
  {
   "cell_type": "code",
   "execution_count": null,
   "id": "350728fc-11c7-4d22-bac2-2d2eaa7165b6",
   "metadata": {},
   "outputs": [],
   "source": [
    "solution([-1, -2, 5, 3, 7, 1])"
   ]
  },
  {
   "cell_type": "code",
   "execution_count": null,
   "id": "f8c420bc-6ec9-486f-991d-ae04e5bb48ed",
   "metadata": {},
   "outputs": [],
   "source": []
  }
 ],
 "metadata": {
  "kernelspec": {
   "display_name": "Python 3 (ipykernel)",
   "language": "python",
   "name": "python3"
  },
  "language_info": {
   "codemirror_mode": {
    "name": "ipython",
    "version": 3
   },
   "file_extension": ".py",
   "mimetype": "text/x-python",
   "name": "python",
   "nbconvert_exporter": "python",
   "pygments_lexer": "ipython3",
   "version": "3.12.1"
  }
 },
 "nbformat": 4,
 "nbformat_minor": 5
}
